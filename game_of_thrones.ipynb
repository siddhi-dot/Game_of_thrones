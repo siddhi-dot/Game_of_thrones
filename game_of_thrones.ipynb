{
 "cells": [
  {
   "cell_type": "markdown",
   "id": "b9ca9016",
   "metadata": {},
   "source": [
    "## Game of Thrones Dialogue Analysis\n",
    "\n",
    "This notebook contains the analysis of dialogue in the Game of Thrones sample conversation."
   ]
  },
  {
   "cell_type": "code",
   "execution_count": 4,
   "id": "fa3426c3",
   "metadata": {},
   "outputs": [
    {
     "name": "stdout",
     "output_type": "stream",
     "text": [
      "Number of unique dialogue speakers: 8\n"
     ]
    }
   ],
   "source": [
    "def get_unique_speakers(filename):\n",
    "    unique_speakers = set()\n",
    "    with open(filename, 'r', encoding='utf-8') as file:\n",
    "        for line in file:\n",
    "            speaker, _ = line.strip().split(':', 1)\n",
    "            unique_speakers.add(speaker.strip())\n",
    "    return unique_speakers\n",
    "\n",
    "if __name__ == \"__main__\":\n",
    "    input_file = \"conv.txt\"\n",
    "\n",
    "    # Task 1: Find out the number of unique dialogue speakers\n",
    "    unique_speakers = get_unique_speakers(input_file)\n",
    "    num_unique_speakers = len(unique_speakers)\n",
    "    print(f\"Number of unique dialogue speakers: {num_unique_speakers}\")\n"
   ]
  },
  {
   "cell_type": "code",
   "execution_count": 6,
   "id": "01226cfe",
   "metadata": {},
   "outputs": [
    {
     "name": "stdout",
     "output_type": "stream",
     "text": [
      "Number of unique dialogue speakers: 8\n",
      "Daenerys:\n",
      "  - I will take what is mine with fire and blood.\n",
      "  - Dracarys!\n",
      "Tyrion:\n",
      "  - A mind needs books as a sword needs a whetstone.\n",
      "  - That's what I do: I drink and I know things.\n",
      "Cersei:\n",
      "  - When you play the game of thrones, you win or you die.\n",
      "Jon Snow:\n",
      "  - The North remembers.\n",
      "Arya:\n",
      "  - A girl is Arya Stark of Winterfell, and I'm going home.\n",
      "Jaime:\n",
      "  - The things I do for love.\n",
      "Sansa:\n",
      "  - Winter is here.\n",
      "Bran:\n",
      "  - I'm the three-eyed raven now.\n"
     ]
    }
   ],
   "source": [
    "def get_unique_speakers(filename):\n",
    "    unique_speakers = {}\n",
    "    with open(filename, 'r', encoding='utf-8') as file:\n",
    "        for line in file:\n",
    "            speaker, dialogue = line.strip().split(':', 1)\n",
    "            speaker = speaker.strip()\n",
    "            dialogue = dialogue.strip()\n",
    "            if speaker in unique_speakers:\n",
    "                unique_speakers[speaker].append(dialogue)\n",
    "            else:\n",
    "                unique_speakers[speaker] = [dialogue]\n",
    "    return unique_speakers\n",
    "\n",
    "if __name__ == \"__main__\":\n",
    "    input_file = \"conv.txt\"\n",
    "\n",
    "    # Task 1: Find out the number of unique dialogue speakers and their names\n",
    "    unique_speakers = get_unique_speakers(input_file)\n",
    "    num_unique_speakers = len(unique_speakers)\n",
    "    print(f\"Number of unique dialogue speakers: {num_unique_speakers}\")\n",
    "\n",
    "    # Print each speaker and their dialogues\n",
    "    for speaker, dialogues in unique_speakers.items():\n",
    "        print(f\"{speaker}:\")\n",
    "        for dialogue in dialogues:\n",
    "            print(f\"  - {dialogue}\")\n"
   ]
  },
  {
   "cell_type": "code",
   "execution_count": null,
   "id": "2dbf8d61",
   "metadata": {},
   "outputs": [],
   "source": []
  }
 ],
 "metadata": {
  "kernelspec": {
   "display_name": "Python 3",
   "language": "python",
   "name": "python3"
  },
  "language_info": {
   "codemirror_mode": {
    "name": "ipython",
    "version": 3
   },
   "file_extension": ".py",
   "mimetype": "text/x-python",
   "name": "python",
   "nbconvert_exporter": "python",
   "pygments_lexer": "ipython3",
   "version": "3.10.7"
  }
 },
 "nbformat": 4,
 "nbformat_minor": 5
}
